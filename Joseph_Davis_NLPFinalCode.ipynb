{
 "cells": [
  {
   "cell_type": "code",
   "execution_count": 1,
   "id": "c502f49d",
   "metadata": {},
   "outputs": [],
   "source": [
    "#import the necessary packages\n",
    "import nltk\n",
    "from nltk import FreqDist\n",
    "import csv\n",
    "import pandas\n",
    "import nltk.classify.util\n",
    "from nltk.classify import NaiveBayesClassifier\n",
    "from nltk.corpus import movie_reviews\n",
    "from nltk.corpus import stopwords\n",
    "from nltk.tokenize import word_tokenize\n",
    "import random\n",
    "import numpy as np\n",
    "import matplotlib.pyplot as plt"
   ]
  },
  {
   "cell_type": "code",
   "execution_count": 2,
   "id": "5e71cfaa",
   "metadata": {},
   "outputs": [
    {
     "data": {
      "text/html": [
       "<div>\n",
       "<style scoped>\n",
       "    .dataframe tbody tr th:only-of-type {\n",
       "        vertical-align: middle;\n",
       "    }\n",
       "\n",
       "    .dataframe tbody tr th {\n",
       "        vertical-align: top;\n",
       "    }\n",
       "\n",
       "    .dataframe thead th {\n",
       "        text-align: right;\n",
       "    }\n",
       "</style>\n",
       "<table border=\"1\" class=\"dataframe\">\n",
       "  <thead>\n",
       "    <tr style=\"text-align: right;\">\n",
       "      <th></th>\n",
       "      <th>PhraseId</th>\n",
       "      <th>SentenceId</th>\n",
       "      <th>Phrase</th>\n",
       "      <th>Sentiment</th>\n",
       "    </tr>\n",
       "  </thead>\n",
       "  <tbody>\n",
       "    <tr>\n",
       "      <th>0</th>\n",
       "      <td>1</td>\n",
       "      <td>1</td>\n",
       "      <td>A series of escapades demonstrating the adage ...</td>\n",
       "      <td>1</td>\n",
       "    </tr>\n",
       "    <tr>\n",
       "      <th>1</th>\n",
       "      <td>2</td>\n",
       "      <td>1</td>\n",
       "      <td>A series of escapades demonstrating the adage ...</td>\n",
       "      <td>2</td>\n",
       "    </tr>\n",
       "    <tr>\n",
       "      <th>2</th>\n",
       "      <td>3</td>\n",
       "      <td>1</td>\n",
       "      <td>A series</td>\n",
       "      <td>2</td>\n",
       "    </tr>\n",
       "    <tr>\n",
       "      <th>3</th>\n",
       "      <td>4</td>\n",
       "      <td>1</td>\n",
       "      <td>A</td>\n",
       "      <td>2</td>\n",
       "    </tr>\n",
       "    <tr>\n",
       "      <th>4</th>\n",
       "      <td>5</td>\n",
       "      <td>1</td>\n",
       "      <td>series</td>\n",
       "      <td>2</td>\n",
       "    </tr>\n",
       "    <tr>\n",
       "      <th>...</th>\n",
       "      <td>...</td>\n",
       "      <td>...</td>\n",
       "      <td>...</td>\n",
       "      <td>...</td>\n",
       "    </tr>\n",
       "    <tr>\n",
       "      <th>156055</th>\n",
       "      <td>156056</td>\n",
       "      <td>8544</td>\n",
       "      <td>Hearst 's</td>\n",
       "      <td>2</td>\n",
       "    </tr>\n",
       "    <tr>\n",
       "      <th>156056</th>\n",
       "      <td>156057</td>\n",
       "      <td>8544</td>\n",
       "      <td>forced avuncular chortles</td>\n",
       "      <td>1</td>\n",
       "    </tr>\n",
       "    <tr>\n",
       "      <th>156057</th>\n",
       "      <td>156058</td>\n",
       "      <td>8544</td>\n",
       "      <td>avuncular chortles</td>\n",
       "      <td>3</td>\n",
       "    </tr>\n",
       "    <tr>\n",
       "      <th>156058</th>\n",
       "      <td>156059</td>\n",
       "      <td>8544</td>\n",
       "      <td>avuncular</td>\n",
       "      <td>2</td>\n",
       "    </tr>\n",
       "    <tr>\n",
       "      <th>156059</th>\n",
       "      <td>156060</td>\n",
       "      <td>8544</td>\n",
       "      <td>chortles</td>\n",
       "      <td>2</td>\n",
       "    </tr>\n",
       "  </tbody>\n",
       "</table>\n",
       "<p>156060 rows × 4 columns</p>\n",
       "</div>"
      ],
      "text/plain": [
       "        PhraseId  SentenceId  \\\n",
       "0              1           1   \n",
       "1              2           1   \n",
       "2              3           1   \n",
       "3              4           1   \n",
       "4              5           1   \n",
       "...          ...         ...   \n",
       "156055    156056        8544   \n",
       "156056    156057        8544   \n",
       "156057    156058        8544   \n",
       "156058    156059        8544   \n",
       "156059    156060        8544   \n",
       "\n",
       "                                                   Phrase  Sentiment  \n",
       "0       A series of escapades demonstrating the adage ...          1  \n",
       "1       A series of escapades demonstrating the adage ...          2  \n",
       "2                                                A series          2  \n",
       "3                                                       A          2  \n",
       "4                                                  series          2  \n",
       "...                                                   ...        ...  \n",
       "156055                                          Hearst 's          2  \n",
       "156056                          forced avuncular chortles          1  \n",
       "156057                                 avuncular chortles          3  \n",
       "156058                                          avuncular          2  \n",
       "156059                                           chortles          2  \n",
       "\n",
       "[156060 rows x 4 columns]"
      ]
     },
     "execution_count": 2,
     "metadata": {},
     "output_type": "execute_result"
    }
   ],
   "source": [
    "#load in the data that will be analyzed\n",
    "data=pandas.read_csv('train.tsv',sep='\\t')\n",
    "data"
   ]
  },
  {
   "cell_type": "code",
   "execution_count": 3,
   "id": "399ab8ee",
   "metadata": {},
   "outputs": [
    {
     "data": {
      "text/plain": [
       "2325"
      ]
     },
     "execution_count": 3,
     "metadata": {},
     "output_type": "execute_result"
    }
   ],
   "source": [
    "#Create a column for phrase length, then select the longest phrase for each sentenceID. This way the original sentence\n",
    "#will be the one under investigation rather than all the split of sentences.\n",
    "PhraseLength=[]\n",
    "for row in data[\"Phrase\"]:\n",
    "    length=len(row)\n",
    "    PhraseLength.append(length)\n",
    "data[\"PhraseLength\"]=PhraseLength\n",
    "output = data[data['PhraseLength']==data.groupby('SentenceId')['PhraseLength'].transform(max)]\n",
    "sum(output[\"Sentiment\"]==3)"
   ]
  },
  {
   "cell_type": "code",
   "execution_count": 4,
   "id": "ce8661c6",
   "metadata": {},
   "outputs": [
    {
     "data": {
      "image/png": "[encoded data removed]",
      "text/plain": [
       "<Figure size 640x480 with 1 Axes>"
      ]
     },
     "metadata": {},
     "output_type": "display_data"
    }
   ],
   "source": [
    "#Visualize the spread of sentiments for the reviews\n",
    "Sentiments = list(output[\"Sentiment\"])\n",
    "plt.hist(Sentiments, color ='blue', edgecolor=\"Black\")\n",
    "plt.xlabel(\"Sentiment\")\n",
    "plt.ylabel(\"Count\")\n",
    "plt.title(\"Reviews for each Sentiment\")\n",
    "plt.xticks(np.arange(0, 4.5, 1))\n",
    "plt.show()"
   ]
  },
  {
   "cell_type": "code",
   "execution_count": 5,
   "id": "c02e4203",
   "metadata": {},
   "outputs": [
    {
     "data": {
      "text/plain": [
       "8530"
      ]
     },
     "execution_count": 5,
     "metadata": {},
     "output_type": "execute_result"
    }
   ],
   "source": [
    "#The total reviews that will be investigated\n",
    "len(output)"
   ]
  },
  {
   "cell_type": "code",
   "execution_count": 6,
   "id": "9856db29",
   "metadata": {},
   "outputs": [],
   "source": [
    "#long list of all full phrase strings\n",
    "for row in output:\n",
    "    Phraselist=list(output[\"Phrase\"])"
   ]
  },
  {
   "cell_type": "code",
   "execution_count": 7,
   "id": "fc54f8e3",
   "metadata": {},
   "outputs": [],
   "source": [
    "#This is a function that will filter the reviews and get rid of all characters that are not alphabetical numbers\n",
    "#which essentially just means this is a punctuation filter.\n",
    "def alpha_filter(w):\n",
    "  # pattern to match word of non-alphabetical characters\n",
    "  pattern = re.compile('^[^a-z]+$')\n",
    "  if (pattern.match(w)):\n",
    "    return True\n",
    "  else:\n",
    "    return False"
   ]
  },
  {
   "cell_type": "code",
   "execution_count": 8,
   "id": "ece0dfc1",
   "metadata": {},
   "outputs": [],
   "source": [
    "#Base function that will create word features for use in Naive-Bayes. This functinon will tokenize the words in a\n",
    "#string and make a dictionary where the word is the key and TRUE is the value.\n",
    "def create_word_features(words):\n",
    "    my_dict = dict([(word, True) for word in words])\n",
    "    return my_dict"
   ]
  },
  {
   "cell_type": "code",
   "execution_count": 9,
   "id": "c31e617b",
   "metadata": {},
   "outputs": [
    {
     "data": {
      "text/plain": [
       "{'the': True, 'quick': True, 'Brown': True, 'a': True, 'fox': True, '.': True}"
      ]
     },
     "execution_count": 9,
     "metadata": {},
     "output_type": "execute_result"
    }
   ],
   "source": [
    "#Example of the word feature function when no filtering is done. Notice punctuation, capitalization, and stop\n",
    "#words are not filter from the example sentence.\n",
    "create_word_features([\"the\", \"quick\", \"Brown\", \"quick\", \"a\", \"fox\", \".\"])"
   ]
  },
  {
   "cell_type": "code",
   "execution_count": 10,
   "id": "6df13efc",
   "metadata": {},
   "outputs": [],
   "source": [
    "output = data[data['PhraseLength']==data.groupby('SentenceId')['PhraseLength'].transform(max)]\n",
    "Sent0=output[output[\"Sentiment\"]==0]\n",
    "Sent1=output[output[\"Sentiment\"]==1]\n",
    "Sent2=output[output[\"Sentiment\"]==2]\n",
    "Sent3=output[output[\"Sentiment\"]==3]\n",
    "Sent4=output[output[\"Sentiment\"]==4]\n",
    "for row in Sent0:\n",
    "    Phraselist0=list(Sent0[\"Phrase\"])\n",
    "for row in Sent1:\n",
    "    Phraselist1=list(Sent1[\"Phrase\"])\n",
    "for row in Sent2:\n",
    "    Phraselist2=list(Sent2[\"Phrase\"])\n",
    "for row in Sent3:\n",
    "    Phraselist3=list(Sent3[\"Phrase\"])\n",
    "for row in Sent4:\n",
    "    Phraselist4=list(Sent4[\"Phrase\"])"
   ]
  },
  {
   "cell_type": "code",
   "execution_count": 25,
   "id": "b840c51a",
   "metadata": {},
   "outputs": [],
   "source": [
    "#Using the baseline word feature to create lists for each sentiment, however the list will be a list of tuples where\n",
    "#one part of the list is a dictionary with the word:True as seen above and the second part of the tuple will be\n",
    "#the sentiment number it was rated as\n",
    "Sent0 = []\n",
    "for review in Phraselist0:\n",
    "    words=review.split()\n",
    "    Sent0.append((create_word_features(words), \"0\"))\n",
    "    \n",
    "Sent1 = []\n",
    "for review in Phraselist1:\n",
    "    words=review.split()\n",
    "    Sent1.append((create_word_features(words), \"1\"))\n",
    "    \n",
    "Sent2 = []\n",
    "for review in Phraselist2:\n",
    "    words=review.split()\n",
    "    Sent2.append((create_word_features(words), \"2\"))\n",
    "    \n",
    "Sent3 = []\n",
    "for review in Phraselist3:\n",
    "    words=review.split()\n",
    "    Sent3.append((create_word_features(words), \"3\"))\n",
    "    \n",
    "Sent4 = []\n",
    "for review in Phraselist4:\n",
    "    words=review.split()\n",
    "    Sent4.append((create_word_features(words), \"4\"))"
   ]
  },
  {
   "cell_type": "code",
   "execution_count": 26,
   "id": "8e3a9ec3",
   "metadata": {},
   "outputs": [
    {
     "name": "stdout",
     "output_type": "stream",
     "text": [
      "8530\n"
     ]
    }
   ],
   "source": [
    "#The lists of tuples are combined to one long list and shuffled randomly. It is then sampled into training and testing\n",
    "#Sets, the combined set has a length of 8530, so using the first 7000 is roughly a 14:3 split or roughly 80/20\n",
    "NBset=Sent0+Sent1+Sent2+Sent3+Sent4\n",
    "random.shuffle(NBset)\n",
    "print(len(NBset))\n",
    "training=NBset[:7000]\n",
    "testing=NBset[7000:]"
   ]
  },
  {
   "cell_type": "code",
   "execution_count": 27,
   "id": "81a62e6d",
   "metadata": {},
   "outputs": [
    {
     "name": "stdout",
     "output_type": "stream",
     "text": [
      "38.43137254901961\n"
     ]
    }
   ],
   "source": [
    "#A classifier is created on the training data using Naive Bayes. The model is then applied to the testing set\n",
    "#and compared to the true values of the testing set. This gave an accuracy of 33.87%, however this will change\n",
    "#each time it is run. So anywhere from around 30-35% accuracy is expected.\n",
    "classifier = NaiveBayesClassifier.train(training)\n",
    "accuracy = nltk.classify.util.accuracy(classifier, testing)\n",
    "print(accuracy * 100)"
   ]
  },
  {
   "cell_type": "code",
   "execution_count": 14,
   "id": "d8c38eba",
   "metadata": {},
   "outputs": [],
   "source": [
    "#This is the same word feature function from before, however this time stop words are removed. Various punctuation\n",
    "#is removed, and all words are made lowercase.\n",
    "def create_word_features_filtered(words):\n",
    "    stopwords1=nltk.corpus.stopwords.words('english')\n",
    "    s=['\\'s', '.', ',']\n",
    "    newwords=[x.lower() for x in words]\n",
    "    stopwords=stopwords1+s\n",
    "    useful_words = [word for word in newwords if word not in stopwords]\n",
    "    my_dict = dict([(word, True) for word in useful_words])\n",
    "    return my_dict"
   ]
  },
  {
   "cell_type": "code",
   "execution_count": 15,
   "id": "e1324837",
   "metadata": {},
   "outputs": [
    {
     "data": {
      "text/plain": [
       "{'quick': True, 'brown': True, 'fox': True}"
      ]
     },
     "execution_count": 15,
     "metadata": {},
     "output_type": "execute_result"
    }
   ],
   "source": [
    "#Example of the filter in action, the Brown is made lowerase, the punctuation is removed and so are the stopwords\n",
    "create_word_features_filtered([\"the\", \"quick\", \"Brown\", \"quick\", \"a\", \"fox\", \".\"])"
   ]
  },
  {
   "cell_type": "code",
   "execution_count": 19,
   "id": "0ee1be51",
   "metadata": {},
   "outputs": [],
   "source": [
    "#Recreating the same list as before, with the tuple of a dictionary and the corresponding sentiment however\n",
    "#this time the new function with more filtering was done.\n",
    "Sent0 = []\n",
    "for review in Phraselist0:\n",
    "    words=review.split()\n",
    "    Sent0.append((create_word_features_filtered(words), 0))\n",
    "    \n",
    "Sent1 = []\n",
    "for review in Phraselist1:\n",
    "    words=review.split()\n",
    "    Sent1.append((create_word_features_filtered(words), 1))\n",
    "    \n",
    "Sent2 = []\n",
    "for review in Phraselist2:\n",
    "    words=review.split()\n",
    "    Sent2.append((create_word_features_filtered(words), 2))\n",
    "    \n",
    "Sent3 = []\n",
    "for review in Phraselist3:\n",
    "    words=review.split()\n",
    "    Sent3.append((create_word_features_filtered(words), 3))\n",
    "    \n",
    "Sent4 = []\n",
    "for review in Phraselist4:\n",
    "    words=review.split()\n",
    "    Sent4.append((create_word_features_filtered(words), 4))\n",
    "    \n",
    "NBset=Sent0+Sent1+Sent2+Sent3+Sent4\n",
    "random.shuffle(NBset)\n",
    "len(NBset)\n",
    "training=NBset[:7000]\n",
    "testing=NBset[7000:]"
   ]
  },
  {
   "cell_type": "code",
   "execution_count": 20,
   "id": "0f7f7d8e",
   "metadata": {},
   "outputs": [
    {
     "name": "stdout",
     "output_type": "stream",
     "text": [
      "35.55555555555556\n"
     ]
    }
   ],
   "source": [
    "#The same Naive Bayes classifier was used and the accuracy was found to be 34.71%, slightly better however note\n",
    "#that this will fluctuate.\n",
    "classifier = NaiveBayesClassifier.train(training)\n",
    "accuracy = nltk.classify.util.accuracy(classifier, testing)\n",
    "print(accuracy * 100)"
   ]
  },
  {
   "cell_type": "code",
   "execution_count": 27,
   "id": "3abaad80",
   "metadata": {},
   "outputs": [
    {
     "name": "stdout",
     "output_type": "stream",
     "text": [
      "Most Informative Features\n",
      "                   worst = True                0 : 3      =     18.0 : 1.0\n",
      "                     bad = True                0 : 4      =     16.7 : 1.0\n",
      "                       ? = True                2 : 4      =     15.9 : 1.0\n",
      "                  moving = True                4 : 0      =     15.7 : 1.0\n",
      "                    dull = True                0 : 3      =     15.3 : 1.0\n",
      "                 imagine = True                0 : 3      =     15.3 : 1.0\n",
      "            entertaining = True                4 : 0      =     15.2 : 1.0\n",
      "                  stupid = True                0 : 2      =     14.1 : 1.0\n",
      "                    mess = True                0 : 4      =     14.1 : 1.0\n",
      "                    loud = True                0 : 3      =     13.9 : 1.0\n",
      "              thoughtful = True                4 : 1      =     13.1 : 1.0\n",
      "                touching = True                4 : 1      =     13.1 : 1.0\n",
      "                    best = True                4 : 0      =     12.9 : 1.0\n",
      "                   worse = True                0 : 3      =     12.4 : 1.0\n",
      "                   heart = True                4 : 0      =     12.4 : 1.0\n",
      "                    warm = True                4 : 1      =     11.9 : 1.0\n",
      "               wonderful = True                4 : 1      =     11.9 : 1.0\n",
      "                    flat = True                1 : 3      =     11.7 : 1.0\n",
      "                    plot = True                0 : 4      =     11.4 : 1.0\n",
      "                    less = True                2 : 4      =     11.1 : 1.0\n",
      "                      tv = True                1 : 3      =     11.0 : 1.0\n",
      "                   money = True                0 : 3      =     11.0 : 1.0\n",
      "             beautifully = True                4 : 1      =     10.9 : 1.0\n",
      "                   smart = True                4 : 2      =     10.8 : 1.0\n",
      "                 purpose = True                0 : 1      =     10.3 : 1.0\n",
      "                    fare = True                4 : 3      =     10.3 : 1.0\n",
      "                    fact = True                0 : 2      =      9.9 : 1.0\n",
      "                 minutes = True                0 : 4      =      9.9 : 1.0\n",
      "                    year = True                4 : 2      =      9.8 : 1.0\n",
      "                terrific = True                3 : 1      =      9.7 : 1.0\n",
      "None\n"
     ]
    }
   ],
   "source": [
    "#Showing which features of classifier are most informative\n",
    "print(classifier.show_most_informative_features(30))"
   ]
  },
  {
   "cell_type": "code",
   "execution_count": 29,
   "id": "c768fcdd",
   "metadata": {},
   "outputs": [],
   "source": [
    "#Using only the top 2000 most frequently occuring words to train (experiment 2)\n",
    "#This time the most frequent 2000 words were collected.\n",
    "Phraselist\n",
    "biglist=\" \".join(Phraselist)\n",
    "fdist = FreqDist(word.lower() for word in word_tokenize(biglist))\n",
    "frequentwords=fdist.most_common(2000)\n",
    "word_features = [word for (word, freq) in frequentwords]"
   ]
  },
  {
   "cell_type": "code",
   "execution_count": 30,
   "id": "15f9d96b",
   "metadata": {},
   "outputs": [],
   "source": [
    "#A new function will create a features output with V_word where word is a word in the most frequent 2000 words.\n",
    "#It will be marked true if it appears in the review and it will be marked false if it does not. Again the associated\n",
    "#sentiment will paired with these long dictionaries. Most V_word will be false as the reviews are short.\n",
    "def document_features(document, word_features):\n",
    "\tdocument_words = set(document)\n",
    "\tfeatures = {}\n",
    "\tfor word in word_features:\n",
    "\t\tfeatures['V_%s' % word] = (word in document_words)\n",
    "\treturn features"
   ]
  },
  {
   "cell_type": "code",
   "execution_count": 31,
   "id": "deed3eb8",
   "metadata": {},
   "outputs": [
    {
     "name": "stdout",
     "output_type": "stream",
     "text": [
      "(['Nothing', 'about', 'the', 'film', '--', 'with', 'the', 'possible', 'exception', 'of', 'Elizabeth', 'Hurley', \"'s\", 'breasts', '--', 'is', 'authentic', '.'], 0)\n"
     ]
    }
   ],
   "source": [
    "#This simply creates a list of tuples, where the tuple is the tokenized phrase in a list and the sentiment. The list\n",
    "#of tuples is then shuffled so training and testing data can be pulled.\n",
    "phrasesent=list(zip(output.Phrase,output.Sentiment))\n",
    "phrasesent[0]\n",
    "tuples=[]\n",
    "somelist=[]\n",
    "hello=[]\n",
    "for review in phrasesent:\n",
    "    somelist=(review[0].split(), review[1])\n",
    "    hello=tuple(somelist)\n",
    "    tuples.append(hello)\n",
    "random.shuffle(tuples)\n",
    "print(tuples[0])"
   ]
  },
  {
   "cell_type": "code",
   "execution_count": 32,
   "id": "2472625f",
   "metadata": {},
   "outputs": [
    {
     "data": {
      "text/plain": [
       "8530"
      ]
     },
     "execution_count": 32,
     "metadata": {},
     "output_type": "execute_result"
    }
   ],
   "source": [
    "#The featureset are again 8530 long so this will need to be split\n",
    "featuresets = [(document_features(d, word_features), c) for (d,c) in tuples]\n",
    "len(featuresets)"
   ]
  },
  {
   "cell_type": "code",
   "execution_count": 33,
   "id": "707152f3",
   "metadata": {},
   "outputs": [
    {
     "name": "stdout",
     "output_type": "stream",
     "text": [
      "0.39\n"
     ]
    }
   ],
   "source": [
    "#This time significantly more training data (over 8000) will be used and tested on much less testing data (500)\n",
    "#Again naive bayes is used and compared to the true values. It returned an accuarcy of 36.4%\n",
    "train_set, test_set = featuresets[500:], featuresets[:500]\n",
    "classifier = nltk.NaiveBayesClassifier.train(train_set)\n",
    "print (nltk.classify.accuracy(classifier, test_set))"
   ]
  },
  {
   "cell_type": "code",
   "execution_count": 34,
   "id": "df3e6fbf",
   "metadata": {},
   "outputs": [
    {
     "name": "stdout",
     "output_type": "stream",
     "text": [
      "Most Informative Features\n",
      "                   V_bad = True                0 : 4      =     25.2 : 1.0\n",
      "                  V_dull = True                0 : 3      =     19.2 : 1.0\n",
      "                 V_worst = True                0 : 3      =     19.2 : 1.0\n",
      "                     V_? = True                2 : 4      =     17.4 : 1.0\n",
      "            V_thoughtful = True                4 : 1      =     16.7 : 1.0\n",
      "              V_touching = True                4 : 1      =     16.7 : 1.0\n",
      "                V_moving = True                4 : 0      =     15.0 : 1.0\n",
      "                  V_mess = True                0 : 4      =     14.6 : 1.0\n",
      "                  V_best = True                4 : 0      =     14.2 : 1.0\n",
      "                 V_worse = True                0 : 3      =     13.5 : 1.0\n",
      "                 V_heart = True                4 : 0      =     13.3 : 1.0\n",
      "             V_hilarious = True                4 : 1      =     13.2 : 1.0\n",
      "                  V_flat = True                1 : 3      =     12.9 : 1.0\n",
      "                  V_less = True                1 : 4      =     12.5 : 1.0\n",
      "                V_stupid = True                0 : 2      =     12.5 : 1.0\n",
      "                  V_ugly = True                0 : 2      =     12.5 : 1.0\n",
      "             V_wonderful = True                4 : 2      =     12.3 : 1.0\n",
      "                V_deeply = True                4 : 1      =     12.1 : 1.0\n",
      "            V_engrossing = True                4 : 1      =     12.1 : 1.0\n",
      "              V_terrific = True                4 : 1      =     12.1 : 1.0\n",
      "             V_contrived = True                0 : 3      =     12.1 : 1.0\n",
      "               V_lacking = True                0 : 3      =     12.1 : 1.0\n",
      "                 V_money = True                0 : 3      =     12.1 : 1.0\n",
      "           V_pretentious = True                0 : 3      =     12.1 : 1.0\n",
      "                  V_fact = True                0 : 2      =     11.5 : 1.0\n",
      "                 V_grace = True                4 : 3      =     11.5 : 1.0\n",
      "           V_fascinating = True                4 : 0      =     11.0 : 1.0\n",
      "              V_gorgeous = True                4 : 1      =     10.9 : 1.0\n",
      "                V_honest = True                4 : 1      =     10.9 : 1.0\n",
      "                  V_warm = True                4 : 1      =     10.9 : 1.0\n",
      "None\n"
     ]
    }
   ],
   "source": [
    "#A visual of the most defining features\n",
    "print(classifier.show_most_informative_features(30))"
   ]
  },
  {
   "cell_type": "code",
   "execution_count": 35,
   "id": "f0815cac",
   "metadata": {},
   "outputs": [
    {
     "name": "stdout",
     "output_type": "stream",
     "text": [
      "0.362\n"
     ]
    }
   ],
   "source": [
    "#Using the top 4000 words\n",
    "biglist=\" \".join(Phraselist)\n",
    "fdist = FreqDist(word.lower() for word in word_tokenize(biglist))\n",
    "frequentwords=fdist.most_common(4000)\n",
    "word_features = [word for (word, freq) in frequentwords]\n",
    "phrasesent=list(zip(output.Phrase,output.Sentiment))\n",
    "tuples=[]\n",
    "somelist=[]\n",
    "hello=[]\n",
    "for review in phrasesent:\n",
    "    somelist=(review[0].split(), review[1])\n",
    "    hello=tuple(somelist)\n",
    "    tuples.append(hello)\n",
    "random.shuffle(tuples)\n",
    "featuresets = [(document_features(d, word_features), c) for (d,c) in tuples]\n",
    "train_set, test_set = featuresets[500:], featuresets[:500]\n",
    "classifier = nltk.NaiveBayesClassifier.train(train_set)\n",
    "print (nltk.classify.accuracy(classifier, test_set))"
   ]
  },
  {
   "cell_type": "code",
   "execution_count": 36,
   "id": "8e449c3e",
   "metadata": {},
   "outputs": [
    {
     "name": "stdout",
     "output_type": "stream",
     "text": [
      "Most Informative Features\n",
      "                   V_bad = True                0 : 4      =     26.4 : 1.0\n",
      "                 V_worst = True                0 : 3      =     20.1 : 1.0\n",
      "                     V_? = True                2 : 4      =     17.6 : 1.0\n",
      "            V_thoughtful = True                4 : 1      =     16.6 : 1.0\n",
      "             V_wonderful = True                4 : 1      =     16.6 : 1.0\n",
      "                  V_dull = True                0 : 3      =     15.6 : 1.0\n",
      "                V_moving = True                4 : 0      =     15.4 : 1.0\n",
      "                  V_best = True                4 : 0      =     14.5 : 1.0\n",
      "              V_touching = True                4 : 1      =     14.4 : 1.0\n",
      "                 V_heart = True                4 : 0      =     14.3 : 1.0\n",
      "                  V_flat = True                1 : 3      =     13.6 : 1.0\n",
      "             V_contrived = True                0 : 3      =     13.6 : 1.0\n",
      "                 V_worse = True                0 : 3      =     13.6 : 1.0\n",
      "                V_deeply = True                4 : 1      =     13.2 : 1.0\n",
      "                  V_mess = True                0 : 4      =     13.1 : 1.0\n",
      "                  V_ugly = True                0 : 2      =     12.7 : 1.0\n",
      "                  V_less = True                1 : 4      =     12.6 : 1.0\n",
      "               V_lacking = True                0 : 3      =     12.1 : 1.0\n",
      "           V_pretentious = True                0 : 3      =     12.1 : 1.0\n",
      "                 V_tired = True                0 : 3      =     12.1 : 1.0\n",
      "            V_delightful = True                4 : 1      =     12.1 : 1.0\n",
      "                V_honest = True                4 : 1      =     12.1 : 1.0\n",
      "              V_terrific = True                4 : 1      =     12.1 : 1.0\n",
      "                V_stupid = True                0 : 2      =     11.7 : 1.0\n",
      "                 V_grace = True                4 : 3      =     11.4 : 1.0\n",
      "            V_engrossing = True                4 : 1      =     10.9 : 1.0\n",
      "                  V_form = True                4 : 1      =     10.9 : 1.0\n",
      "            V_amateurish = True                0 : 3      =     10.7 : 1.0\n",
      "            V_depressing = True                0 : 3      =     10.7 : 1.0\n",
      "                V_devoid = True                0 : 3      =     10.7 : 1.0\n",
      "None\n"
     ]
    }
   ],
   "source": [
    "print(classifier.show_most_informative_features(30))"
   ]
  },
  {
   "cell_type": "code",
   "execution_count": 37,
   "id": "44cc8306",
   "metadata": {},
   "outputs": [],
   "source": [
    "#negation words\n",
    "negationwords = ['no', 'not', 'never', 'none', 'nowhere', 'nothing', 'noone','rather', 'hardly', 'scarcely', 'rarely', 'seldom', 'neither', 'nor']"
   ]
  },
  {
   "cell_type": "code",
   "execution_count": 38,
   "id": "9d621015",
   "metadata": {},
   "outputs": [],
   "source": [
    "#This is a function that will include negation words into the formula. Instead of having \"nothing good\" being split\n",
    "#into \"nothing\" \"good\" and potentially missing the negation importance of the words \"nothing\" this function will\n",
    "#Add V_NOT_word to the feature set if it sees it appear in the reviews. \n",
    "def NOT_features(document, word_features, negationwords):\n",
    "    features = {}\n",
    "    for word in word_features:\n",
    "        features['V_{}'.format(word)] = False\n",
    "        features['V_NOT{}'.format(word)] = False\n",
    "    # go through document words in order\n",
    "    for i in range(0, len(document)):\n",
    "        word = document[i]\n",
    "        if ((i + 1) < len(document)) and ((word in negationwords) or (word.endswith(\"n't\"))):\n",
    "            i += 1\n",
    "            features['V_NOT{}'.format(document[i])] = (document[i] in word_features)\n",
    "        else:\n",
    "            features['V_{}'.format(word)] = (word in word_features)\n",
    "    return features"
   ]
  },
  {
   "cell_type": "code",
   "execution_count": 39,
   "id": "3a399e91",
   "metadata": {},
   "outputs": [
    {
     "name": "stdout",
     "output_type": "stream",
     "text": [
      "False\n",
      "False\n"
     ]
    }
   ],
   "source": [
    "#An example of this in action, this will read the reviews in and tell if not good appears in the first review\n",
    "#Also note that NOT_featuresets is created which is a featureset however, the negation will be accounted for\n",
    "#because of the function described above.\n",
    "NOT_featuresets = [(NOT_features(d, word_features, negationwords), c) for (d, c) in tuples]\n",
    "# show the values of a couple of example features\n",
    "print(NOT_featuresets[0][0]['V_NOTgood'])\n",
    "print(NOT_featuresets[0][0]['V_always'])"
   ]
  },
  {
   "cell_type": "code",
   "execution_count": 40,
   "id": "c10c0e22",
   "metadata": {},
   "outputs": [
    {
     "data": {
      "text/plain": [
       "0.371"
      ]
     },
     "execution_count": 40,
     "metadata": {},
     "output_type": "execute_result"
    }
   ],
   "source": [
    "#Training and testing sets created from the negation featureset. The accuracy was found to be 39.2% which is an\n",
    "#increase. Note that more data was used for testing and less for training than before and the accuracy will fluctuate.\n",
    "train_set, test_set = NOT_featuresets[1000:], NOT_featuresets[:1000]\n",
    "classifier = nltk.NaiveBayesClassifier.train(train_set)\n",
    "nltk.classify.accuracy(classifier, test_set)"
   ]
  },
  {
   "cell_type": "code",
   "execution_count": 41,
   "id": "da2cb5a5",
   "metadata": {},
   "outputs": [
    {
     "name": "stdout",
     "output_type": "stream",
     "text": [
      "Most Informative Features\n",
      "                   V_bad = True                0 : 4      =     25.3 : 1.0\n",
      "                  V_best = True                4 : 0      =     19.4 : 1.0\n",
      "                 V_worst = True                0 : 3      =     19.1 : 1.0\n",
      "                     V_? = True                2 : 4      =     17.4 : 1.0\n",
      "             V_wonderful = True                4 : 1      =     16.6 : 1.0\n",
      "                V_always = True                4 : 1      =     15.5 : 1.0\n",
      "             V_beautiful = True                4 : 1      =     15.5 : 1.0\n",
      "                V_moving = True                4 : 0      =     14.9 : 1.0\n",
      "                  V_dull = True                0 : 3      =     14.9 : 1.0\n",
      "                 V_heart = True                4 : 0      =     14.4 : 1.0\n",
      "            V_thoughtful = True                4 : 1      =     14.3 : 1.0\n",
      "                  V_flat = True                1 : 3      =     13.6 : 1.0\n",
      "                 V_worse = True                0 : 3      =     13.5 : 1.0\n",
      "                V_deeply = True                4 : 1      =     13.2 : 1.0\n",
      "              V_touching = True                4 : 1      =     13.2 : 1.0\n",
      "                  V_mess = True                0 : 4      =     13.0 : 1.0\n",
      "             V_contrived = True                0 : 3      =     12.1 : 1.0\n",
      "               V_lacking = True                0 : 3      =     12.1 : 1.0\n",
      "           V_pretentious = True                0 : 3      =     12.1 : 1.0\n",
      "                 V_tired = True                0 : 3      =     12.1 : 1.0\n",
      "            V_delightful = True                4 : 1      =     12.0 : 1.0\n",
      "                V_honest = True                4 : 1      =     12.0 : 1.0\n",
      "                  V_less = True                1 : 4      =     11.8 : 1.0\n",
      "                  V_ugly = True                0 : 2      =     11.8 : 1.0\n",
      "                V_French = False               3 : 1      =     11.8 : 1.0\n",
      "                  V_form = True                4 : 1      =     10.9 : 1.0\n",
      "              V_terrific = True                4 : 1      =     10.9 : 1.0\n",
      "                 V_bland = True                1 : 3      =     10.8 : 1.0\n",
      "            V_amateurish = True                0 : 3      =     10.6 : 1.0\n",
      "              V_horrible = True                0 : 3      =     10.6 : 1.0\n"
     ]
    }
   ],
   "source": [
    "#Again showing the most influential words\n",
    "classifier.show_most_informative_features(30)"
   ]
  },
  {
   "cell_type": "code",
   "execution_count": 42,
   "id": "7f00cf6d",
   "metadata": {},
   "outputs": [],
   "source": [
    "#cross validation formula, this will take the featureset (reviews and accompoanying sentiment) and apply the testing, \n",
    "#training, and classifying and repeat the process for the amount of folds you give it.\n",
    "def cross_validation_accuracy(num_folds, featuresets):\n",
    "    subset_size = int(len(featuresets)/num_folds)\n",
    "    print('Each fold size:', subset_size)\n",
    "    accuracy_list = []\n",
    "    # iterate over the folds\n",
    "    for i in range(num_folds):\n",
    "        test_this_round = featuresets[(i*subset_size):][:subset_size]\n",
    "        train_this_round = featuresets[:(i*subset_size)] + featuresets[((i+1)*subset_size):]\n",
    "        # train using train_this_round\n",
    "        classifier = nltk.NaiveBayesClassifier.train(train_this_round)\n",
    "        # evaluate against test_this_round and save accuracy\n",
    "        accuracy_this_round = nltk.classify.accuracy(classifier, test_this_round)\n",
    "        print (i, accuracy_this_round)\n",
    "        accuracy_list.append(accuracy_this_round)\n",
    "    # find mean accuracy over all rounds\n",
    "    print ('mean accuracy', sum(accuracy_list) / num_folds)"
   ]
  },
  {
   "cell_type": "code",
   "execution_count": 43,
   "id": "8262b23e",
   "metadata": {},
   "outputs": [
    {
     "name": "stdout",
     "output_type": "stream",
     "text": [
      "Each fold size: 1706\n",
      "0 0.37807737397420865\n",
      "1 0.38452520515826494\n",
      "2 0.3862837045720985\n",
      "3 0.37807737397420865\n",
      "4 0.35873388042203985\n",
      "mean accuracy 0.3771395076201641\n"
     ]
    }
   ],
   "source": [
    "cross_validation_accuracy(5, featuresets)"
   ]
  },
  {
   "cell_type": "code",
   "execution_count": 44,
   "id": "68a083c9",
   "metadata": {},
   "outputs": [
    {
     "name": "stdout",
     "output_type": "stream",
     "text": [
      "  |   3   1   2   4   0 |\n",
      "--+---------------------+\n",
      "3 |<108> 40  54  61  29 |\n",
      "1 |  42<106> 66  11  42 |\n",
      "2 |  46  45 <51> 17  14 |\n",
      "4 |  51  12  18 <65>  4 |\n",
      "0 |   7  45  22   3 <41>|\n",
      "--+---------------------+\n",
      "(row = reference; col = test)\n",
      "\n"
     ]
    }
   ],
   "source": [
    "#This will help build the confusion matrix, comparing the predicted values with the trust values.\n",
    "#An example is shown\n",
    "goldlist = []\n",
    "predictedlist = []\n",
    "for (features, label) in test_set:\n",
    "    \tgoldlist.append(label)\n",
    "    \tpredictedlist.append(classifier.classify(features))\n",
    "cm = nltk.ConfusionMatrix(goldlist, predictedlist)\n",
    "print(cm.pretty_format(sort_by_count=True, truncate=9))"
   ]
  },
  {
   "cell_type": "code",
   "execution_count": 45,
   "id": "3fbd7d14",
   "metadata": {},
   "outputs": [
    {
     "name": "stdout",
     "output_type": "stream",
     "text": [
      "  |      3      1      2      4      0 |\n",
      "--+------------------------------------+\n",
      "3 | <10.8%>  4.0%   5.4%   6.1%   2.9% |\n",
      "1 |   4.2% <10.6%>  6.6%   1.1%   4.2% |\n",
      "2 |   4.6%   4.5%  <5.1%>  1.7%   1.4% |\n",
      "4 |   5.1%   1.2%   1.8%  <6.5%>  0.4% |\n",
      "0 |   0.7%   4.5%   2.2%   0.3%  <4.1%>|\n",
      "--+------------------------------------+\n",
      "(row = reference; col = test)\n",
      "\n"
     ]
    }
   ],
   "source": [
    "#Additionally, this can be made prettier with this code\n",
    "print(cm.pretty_format(sort_by_count=True, show_percents=True, truncate=9))"
   ]
  },
  {
   "cell_type": "code",
   "execution_count": 46,
   "id": "715b4083",
   "metadata": {},
   "outputs": [],
   "source": [
    "# Function to compute precision, recall and F1 for each label\n",
    "#  and for any number of labels\n",
    "# Input: list of gold labels, list of predicted labels (in same order)\n",
    "# Output:  prints precision, recall and F1 for each label\n",
    "def eval_measures(gold, predicted):\n",
    "    # get a list of labels\n",
    "    labels = list(set(gold))\n",
    "    # these lists have values for each label \n",
    "    recall_list = []\n",
    "    precision_list = []\n",
    "    F1_list = []\n",
    "    for lab in labels:\n",
    "        # for each label, compare gold and predicted lists and compute values\n",
    "        TP = FP = FN = TN = 0\n",
    "        for i, val in enumerate(gold):\n",
    "            if val == lab and predicted[i] == lab:  TP += 1\n",
    "            if val == lab and predicted[i] != lab:  FN += 1\n",
    "            if val != lab and predicted[i] == lab:  FP += 1\n",
    "            if val != lab and predicted[i] != lab:  TN += 1\n",
    "        # use these to compute recall, precision, F1\n",
    "        recall = TP / (TP + FP)\n",
    "        precision = TP / (TP + FN)\n",
    "        recall_list.append(recall)\n",
    "        precision_list.append(precision)\n",
    "        F1_list.append( 2 * (recall * precision) / (recall + precision))\n",
    "\n",
    "    # the evaluation measures in a table with one row per label\n",
    "    print('\\tPrecision\\tRecall\\t\\tF1')\n",
    "    # print measures for each label\n",
    "    for i, lab in enumerate(labels):\n",
    "        print(lab, '\\t', \"{:10.3f}\".format(precision_list[i]), \\\n",
    "          \"{:10.3f}\".format(recall_list[i]), \"{:10.3f}\".format(F1_list[i]))"
   ]
  },
  {
   "cell_type": "code",
   "execution_count": 47,
   "id": "e89ae9a8",
   "metadata": {},
   "outputs": [
    {
     "name": "stdout",
     "output_type": "stream",
     "text": [
      "\tPrecision\tRecall\t\tF1\n",
      "0 \t      0.347      0.315      0.331\n",
      "1 \t      0.397      0.427      0.412\n",
      "2 \t      0.295      0.242      0.266\n",
      "3 \t      0.370      0.425      0.396\n",
      "4 \t      0.433      0.414      0.423\n"
     ]
    }
   ],
   "source": [
    "eval_measures(goldlist, predictedlist)"
   ]
  },
  {
   "cell_type": "code",
   "execution_count": 48,
   "id": "7cb93087",
   "metadata": {},
   "outputs": [
    {
     "name": "stdout",
     "output_type": "stream",
     "text": [
      "0.368\n",
      "Most Informative Features\n",
      "                   V_bad = True                0 : 4      =     24.7 : 1.0\n",
      "               V_minutes = True                0 : 4      =     21.2 : 1.0\n",
      "                 V_worst = True                0 : 3      =     18.8 : 1.0\n",
      "             V_wonderful = True                4 : 1      =     17.8 : 1.0\n",
      "                     V_? = True                2 : 4      =     17.7 : 1.0\n",
      "              V_touching = True                4 : 1      =     16.6 : 1.0\n",
      "            V_thoughtful = True                4 : 1      =     15.5 : 1.0\n",
      "                V_moving = True                4 : 0      =     14.7 : 1.0\n",
      "                  V_dull = True                0 : 3      =     14.7 : 1.0\n",
      "                  V_best = True                4 : 0      =     14.6 : 1.0\n",
      "                 V_worse = True                0 : 3      =     13.8 : 1.0\n",
      "                 V_heart = True                4 : 0      =     13.6 : 1.0\n",
      "                  V_mess = True                0 : 4      =     13.2 : 1.0\n",
      "             V_brilliant = True                4 : 1      =     13.2 : 1.0\n",
      "                V_deeply = True                4 : 1      =     13.2 : 1.0\n",
      "                V_stupid = True                0 : 2      =     12.7 : 1.0\n",
      "             V_contrived = True                0 : 3      =     12.4 : 1.0\n",
      "            V_filmmaking = True                4 : 2      =     12.3 : 1.0\n",
      "            V_engrossing = True                4 : 1      =     12.0 : 1.0\n",
      "             V_hilarious = True                4 : 1      =     12.0 : 1.0\n",
      "              V_terrific = True                4 : 1      =     12.0 : 1.0\n",
      "                  V_less = True                1 : 4      =     11.0 : 1.0\n",
      "                  V_flat = True                1 : 3      =     10.9 : 1.0\n",
      "            V_amateurish = True                0 : 3      =     10.9 : 1.0\n",
      "            V_depressing = True                0 : 3      =     10.9 : 1.0\n",
      "                V_devoid = True                0 : 3      =     10.9 : 1.0\n",
      "                V_entire = True                0 : 3      =     10.9 : 1.0\n",
      "              V_horrible = True                0 : 3      =     10.9 : 1.0\n",
      "               V_lacking = True                0 : 3      =     10.9 : 1.0\n",
      "                 V_money = True                0 : 3      =     10.9 : 1.0\n",
      "None\n",
      "Each fold size: 1706\n",
      "0 0.3886283704572098\n",
      "1 0.3810082063305979\n",
      "2 0.3798358733880422\n",
      "3 0.37924970691676435\n",
      "4 0.36811254396248533\n",
      "mean accuracy 0.3793669402110199\n",
      "\tPrecision\tRecall\t\tF1\n",
      "0 \t      0.343      0.383      0.362\n",
      "1 \t      0.432      0.413      0.422\n",
      "2 \t      0.252      0.252      0.252\n",
      "3 \t      0.349      0.367      0.358\n",
      "4 \t      0.472      0.430      0.450\n",
      "  |      1      3      2      4      0 |\n",
      "--+------------------------------------+\n",
      "1 | <11.4%>  3.0%   6.2%   1.2%   4.6% |\n",
      "3 |   4.4%  <8.8%>  6.4%   5.2%   0.4% |\n",
      "2 |   6.6%   4.8%  <5.2%>  2.0%   2.0% |\n",
      "4 |   0.6%   5.8%   0.8%  <6.8%>  0.4% |\n",
      "0 |   4.6%   1.6%   2.0%   0.6%  <4.6%>|\n",
      "--+------------------------------------+\n",
      "(row = reference; col = test)\n",
      "\n"
     ]
    }
   ],
   "source": [
    "#Default starting point. No filtering, no negation. Using all the tools created up to this point a baseline\n",
    "#accuracy using no filtering was created, cross validated, and shown with a confusion matrix. This is the\n",
    "#default classification and will be used to compare the experiments to.\n",
    "#Using only the top 2000 most frequently occuring words to train (experiment 2)\n",
    "def document_features(document, word_features):\n",
    "\tdocument_words = set(document)\n",
    "\tfeatures = {}\n",
    "\tfor word in word_features:\n",
    "\t\tfeatures['V_%s' % word] = (word in document_words)\n",
    "\treturn features\n",
    "biglist=\" \".join(Phraselist)\n",
    "fdist = FreqDist(word.lower() for word in word_tokenize(biglist))\n",
    "frequentwords=fdist.most_common(2000)\n",
    "word_features = [word for (word, freq) in frequentwords]\n",
    "phrasesent=list(zip(output.Phrase,output.Sentiment))\n",
    "phrasesent[0]\n",
    "tuples=[]\n",
    "somelist=[]\n",
    "hello=[]\n",
    "for review in phrasesent:\n",
    "    somelist=(review[0].split(), review[1])\n",
    "    hello=tuple(somelist)\n",
    "    tuples.append(hello)\n",
    "random.shuffle(tuples)\n",
    "featuresets = [(document_features(d, word_features), c) for (d,c) in tuples]\n",
    "train_set, test_set = featuresets[500:], featuresets[:500]\n",
    "classifier = nltk.NaiveBayesClassifier.train(train_set)\n",
    "print (nltk.classify.accuracy(classifier, test_set))\n",
    "print(classifier.show_most_informative_features(30))\n",
    "\n",
    "def cross_validation_accuracy(num_folds, featuresets):\n",
    "    subset_size = int(len(featuresets)/num_folds)\n",
    "    print('Each fold size:', subset_size)\n",
    "    accuracy_list = []\n",
    "    # iterate over the folds\n",
    "    for i in range(num_folds):\n",
    "        test_this_round = featuresets[(i*subset_size):][:subset_size]\n",
    "        train_this_round = featuresets[:(i*subset_size)] + featuresets[((i+1)*subset_size):]\n",
    "        # train using train_this_round\n",
    "        classifier = nltk.NaiveBayesClassifier.train(train_this_round)\n",
    "        # evaluate against test_this_round and save accuracy\n",
    "        accuracy_this_round = nltk.classify.accuracy(classifier, test_this_round)\n",
    "        print (i, accuracy_this_round)\n",
    "        accuracy_list.append(accuracy_this_round)\n",
    "    # find mean accuracy over all rounds\n",
    "    print ('mean accuracy', sum(accuracy_list) / num_folds)\n",
    "    \n",
    "cross_validation_accuracy(5, featuresets)\n",
    "goldlist = []\n",
    "predictedlist = []\n",
    "for (features, label) in test_set:\n",
    "    \tgoldlist.append(label)\n",
    "    \tpredictedlist.append(classifier.classify(features))\n",
    "        \n",
    "cm = nltk.ConfusionMatrix(goldlist, predictedlist)\n",
    "def eval_measures(gold, predicted):\n",
    "    # get a list of labels\n",
    "    labels = list(set(gold))\n",
    "    # these lists have values for each label \n",
    "    recall_list = []\n",
    "    precision_list = []\n",
    "    F1_list = []\n",
    "    for lab in labels:\n",
    "        # for each label, compare gold and predicted lists and compute values\n",
    "        TP = FP = FN = TN = 0\n",
    "        for i, val in enumerate(gold):\n",
    "            if val == lab and predicted[i] == lab:  TP += 1\n",
    "            if val == lab and predicted[i] != lab:  FN += 1\n",
    "            if val != lab and predicted[i] == lab:  FP += 1\n",
    "            if val != lab and predicted[i] != lab:  TN += 1\n",
    "        # use these to compute recall, precision, F1\n",
    "        recall = TP / (TP + FP)\n",
    "        precision = TP / (TP + FN)\n",
    "        recall_list.append(recall)\n",
    "        precision_list.append(precision)\n",
    "        F1_list.append( 2 * (recall * precision) / (recall + precision))\n",
    "\n",
    "    # the evaluation measures in a table with one row per label\n",
    "    print('\\tPrecision\\tRecall\\t\\tF1')\n",
    "    # print measures for each label\n",
    "    for i, lab in enumerate(labels):\n",
    "        print(lab, '\\t', \"{:10.3f}\".format(precision_list[i]), \\\n",
    "          \"{:10.3f}\".format(recall_list[i]), \"{:10.3f}\".format(F1_list[i]))\n",
    "eval_measures(goldlist, predictedlist)\n",
    "print(cm.pretty_format(sort_by_count=True, show_percents=True, truncate=9))"
   ]
  },
  {
   "cell_type": "code",
   "execution_count": 49,
   "id": "ea8b9025",
   "metadata": {},
   "outputs": [
    {
     "name": "stdout",
     "output_type": "stream",
     "text": [
      "0.372\n",
      "Most Informative Features\n",
      "                   V_bad = True                0 : 4      =     43.3 : 1.0\n",
      "                     V_? = True                2 : 4      =     30.4 : 1.0\n",
      "                 V_worst = True                0 : 3      =     20.4 : 1.0\n",
      "             V_wonderful = True                4 : 1      =     16.7 : 1.0\n",
      "            V_thoughtful = True                4 : 1      =     15.5 : 1.0\n",
      "                  V_dull = True                0 : 3      =     14.6 : 1.0\n",
      "                  V_best = True                4 : 0      =     14.5 : 1.0\n",
      "             V_contrived = True                0 : 3      =     13.7 : 1.0\n",
      "                  V_less = True                1 : 4      =     12.9 : 1.0\n",
      "                V_stupid = True                0 : 2      =     12.7 : 1.0\n",
      "                 V_heart = True                4 : 0      =     12.6 : 1.0\n",
      "                  V_flat = True                1 : 3      =     12.3 : 1.0\n",
      "                 V_awful = True                0 : 3      =     12.3 : 1.0\n",
      "               V_lacking = True                0 : 3      =     12.3 : 1.0\n",
      "                 V_money = True                0 : 3      =     12.3 : 1.0\n",
      "           V_pretentious = True                0 : 3      =     12.3 : 1.0\n",
      "         V_coming-of-age = True                4 : 1      =     12.1 : 1.0\n",
      "                V_deeply = True                4 : 1      =     12.1 : 1.0\n",
      "            V_engrossing = True                4 : 1      =     12.1 : 1.0\n",
      "                V_honest = True                4 : 1      =     12.1 : 1.0\n",
      "              V_terrific = True                4 : 1      =     12.1 : 1.0\n",
      "                  V_mess = True                0 : 2      =     11.3 : 1.0\n",
      "               V_minutes = True                0 : 4      =     11.2 : 1.0\n",
      "                  V_form = True                4 : 1      =     10.9 : 1.0\n",
      "                  V_warm = True                4 : 1      =     10.9 : 1.0\n",
      "           V_fascinating = True                4 : 0      =     10.9 : 1.0\n",
      "            V_depressing = True                0 : 3      =     10.8 : 1.0\n",
      "                V_entire = True                0 : 3      =     10.8 : 1.0\n",
      "              V_horrible = True                0 : 3      =     10.8 : 1.0\n",
      "                  V_loud = True                0 : 3      =     10.8 : 1.0\n",
      "None\n",
      "Each fold size: 1706\n",
      "0 0.369284876905041\n",
      "1 0.3950762016412661\n",
      "2 0.3810082063305979\n",
      "3 0.3686987104337632\n",
      "4 0.3686987104337632\n",
      "mean accuracy 0.3765533411488863\n",
      "\tPrecision\tRecall\t\tF1\n",
      "0 \t      0.222      0.311      0.259\n",
      "1 \t      0.485      0.444      0.463\n",
      "2 \t      0.337      0.295      0.314\n",
      "3 \t      0.351      0.362      0.356\n",
      "4 \t      0.387      0.408      0.397\n",
      "  |      3      1      2      4      0 |\n",
      "--+------------------------------------+\n",
      "3 |  <9.4%>  4.0%   6.0%   6.0%   1.4% |\n",
      "1 |   3.2% <12.6%>  6.2%   1.0%   3.0% |\n",
      "2 |   6.0%   4.6%  <6.6%>  0.8%   1.6% |\n",
      "4 |   6.0%   1.2%   1.8%  <5.8%>  0.2% |\n",
      "0 |   1.4%   6.0%   1.8%   0.6%  <2.8%>|\n",
      "--+------------------------------------+\n",
      "(row = reference; col = test)\n",
      "\n"
     ]
    }
   ],
   "source": [
    "#Exact same except using the most common 4000 words instead of 2000\n",
    "biglist=\" \".join(Phraselist)\n",
    "fdist = FreqDist(word.lower() for word in word_tokenize(biglist))\n",
    "frequentwords=fdist.most_common(4000)\n",
    "word_features = [word for (word, freq) in frequentwords]\n",
    "phrasesent=list(zip(output.Phrase,output.Sentiment))\n",
    "phrasesent[0]\n",
    "tuples=[]\n",
    "somelist=[]\n",
    "hello=[]\n",
    "for review in phrasesent:\n",
    "    somelist=(review[0].split(), review[1])\n",
    "    hello=tuple(somelist)\n",
    "    tuples.append(hello)\n",
    "random.shuffle(tuples)\n",
    "featuresets = [(document_features(d, word_features), c) for (d,c) in tuples]\n",
    "train_set, test_set = featuresets[500:], featuresets[:500]\n",
    "classifier = nltk.NaiveBayesClassifier.train(train_set)\n",
    "print (nltk.classify.accuracy(classifier, test_set))\n",
    "print(classifier.show_most_informative_features(30))\n",
    "cross_validation_accuracy(5, featuresets)\n",
    "goldlist = []\n",
    "predictedlist = []\n",
    "for (features, label) in test_set:\n",
    "    \tgoldlist.append(label)\n",
    "    \tpredictedlist.append(classifier.classify(features))\n",
    "        \n",
    "cm = nltk.ConfusionMatrix(goldlist, predictedlist)\n",
    "eval_measures(goldlist, predictedlist)\n",
    "print(cm.pretty_format(sort_by_count=True, show_percents=True, truncate=9))"
   ]
  },
  {
   "cell_type": "code",
   "execution_count": 50,
   "id": "e8595622",
   "metadata": {},
   "outputs": [
    {
     "name": "stdout",
     "output_type": "stream",
     "text": [
      "0.378\n",
      "Most Informative Features\n",
      "                   V_bad = True                0 : 4      =     39.7 : 1.0\n",
      "                     V_? = True                2 : 4      =     28.1 : 1.0\n",
      "                 V_worst = True                0 : 3      =     20.0 : 1.0\n",
      "             V_wonderful = True                4 : 1      =     16.5 : 1.0\n",
      "             V_beautiful = True                4 : 1      =     14.2 : 1.0\n",
      "            V_thoughtful = True                4 : 1      =     14.2 : 1.0\n",
      "                  V_best = True                4 : 0      =     13.9 : 1.0\n",
      "                  V_dull = True                0 : 3      =     13.7 : 1.0\n",
      "                V_stupid = True                0 : 2      =     12.7 : 1.0\n",
      "                  V_less = True                1 : 4      =     12.3 : 1.0\n",
      "                 V_heart = True                4 : 0      =     12.1 : 1.0\n",
      "                 V_awful = True                0 : 3      =     12.0 : 1.0\n",
      "             V_contrived = True                0 : 3      =     12.0 : 1.0\n",
      "                 V_money = True                0 : 3      =     12.0 : 1.0\n",
      "         V_coming-of-age = True                4 : 1      =     12.0 : 1.0\n",
      "                V_deeply = True                4 : 1      =     12.0 : 1.0\n",
      "            V_engrossing = True                4 : 1      =     12.0 : 1.0\n",
      "                V_honest = True                4 : 1      =     12.0 : 1.0\n",
      "              V_terrific = True                4 : 1      =     12.0 : 1.0\n",
      "                  V_warm = True                4 : 1      =     10.8 : 1.0\n",
      "                  V_mess = True                0 : 2      =     10.7 : 1.0\n",
      "               V_unfunny = True                0 : 2      =     10.7 : 1.0\n",
      "                V_entire = True                0 : 3      =     10.6 : 1.0\n",
      "              V_horrible = True                0 : 3      =     10.6 : 1.0\n",
      "                  V_loud = True                0 : 3      =     10.6 : 1.0\n",
      "               V_purpose = True                0 : 3      =     10.6 : 1.0\n",
      "               V_tedious = True                0 : 3      =     10.6 : 1.0\n",
      "                V_French = False               3 : 1      =     10.4 : 1.0\n",
      "                 V_grace = True                4 : 3      =     10.2 : 1.0\n",
      "              V_riveting = True                4 : 3      =     10.2 : 1.0\n",
      "Each fold size: 1706\n",
      "0 0.35580304806565066\n",
      "1 0.3757327080890973\n",
      "2 0.365767878077374\n",
      "3 0.3540445486518171\n",
      "4 0.34583821805392734\n",
      "mean accuracy 0.35943728018757326\n",
      "\tPrecision\tRecall\t\tF1\n",
      "0 \t      0.439      0.298      0.355\n",
      "1 \t      0.378      0.484      0.424\n",
      "2 \t      0.315      0.286      0.299\n",
      "3 \t      0.337      0.425      0.376\n",
      "4 \t      0.486      0.369      0.420\n",
      "  |      3      1      2      4      0 |\n",
      "--+------------------------------------+\n",
      "3 |  <9.6%>  3.0%   5.6%   7.7%   2.6% |\n",
      "1 |   3.9% <10.4%>  5.6%   2.1%   5.5% |\n",
      "2 |   3.6%   3.7%  <5.6%>  2.0%   2.9% |\n",
      "4 |   4.6%   0.9%   1.3%  <7.2%>  0.8% |\n",
      "0 |   0.9%   3.5%   1.5%   0.5%  <5.0%>|\n",
      "--+------------------------------------+\n",
      "(row = reference; col = test)\n",
      "\n"
     ]
    }
   ],
   "source": [
    "#using negation words in the word_features\n",
    "biglist=\" \".join(Phraselist)\n",
    "fdist = FreqDist(word.lower() for word in word_tokenize(biglist))\n",
    "frequentwords=fdist.most_common(2000)\n",
    "word_features = [word for (word, freq) in frequentwords]\n",
    "import re\n",
    "negationwords = [\"can't\", \"wasn't\" 'no', 'not', 'never', 'none', 'nowhere', \n",
    "                 'nothing', 'noone', 'rather', 'hardly', 'scarcely', 'rarely', \n",
    "                 'seldom', 'neither', 'nor']\n",
    "def NOT_features(document, word_features, negationwords):\n",
    "    features = {}\n",
    "    for word in word_features:\n",
    "        features['V_{}'.format(word)] = False\n",
    "        features['V_NOT{}'.format(word)] = False\n",
    "    # go through document words in order\n",
    "    for i in range(0, len(document)):\n",
    "        word = document[i]\n",
    "        if ((i + 1) < len(document)) and ((word in negationwords) or (word.endswith(\"n't\"))):\n",
    "            i += 1\n",
    "            features['V_NOT{}'.format(document[i])] = (document[i] in word_features)\n",
    "        else:\n",
    "            features['V_{}'.format(word)] = (word in word_features)\n",
    "    return features\n",
    "\n",
    "NOT_featuresets = [(NOT_features(d, word_features, negationwords), c) for (d, c) in tuples]\n",
    "train_set, test_set = NOT_featuresets[1000:], NOT_featuresets[:1000]\n",
    "classifier = nltk.NaiveBayesClassifier.train(train_set)\n",
    "print(nltk.classify.accuracy(classifier, test_set))\n",
    "classifier.show_most_informative_features(30)\n",
    "cross_validation_accuracy(5, NOT_featuresets)\n",
    "goldlist = []\n",
    "predictedlist = []\n",
    "for (features, label) in test_set:\n",
    "    \tgoldlist.append(label)\n",
    "    \tpredictedlist.append(classifier.classify(features))\n",
    "        \n",
    "cm = nltk.ConfusionMatrix(goldlist, predictedlist)\n",
    "eval_measures(goldlist, predictedlist)\n",
    "print(cm.pretty_format(sort_by_count=True, show_percents=True, truncate=9))"
   ]
  },
  {
   "cell_type": "code",
   "execution_count": 51,
   "id": "7aeb3f70",
   "metadata": {},
   "outputs": [],
   "source": [
    "#Going to try bigrams now, the 10,000 most frequent bigrams were collected and will be used with the below function\n",
    "from nltk.collocations import *\n",
    "from nltk.corpus import sentence_polarity\n",
    "biglist=\" \".join(Phraselist)\n",
    "fdist = FreqDist(word.lower() for word in word_tokenize(biglist))\n",
    "frequentwords=fdist.most_common(4000)\n",
    "word_features = [word for (word, freq) in frequentwords]\n",
    "bigram_measures = nltk.collocations.BigramAssocMeasures()\n",
    "all_words_list = [word for (sent,cat) in tuples for word in sent]\n",
    "finder = BigramCollocationFinder.from_words(all_words_list)\n",
    "bigram_features = finder.nbest(bigram_measures.chi_sq, 10000)"
   ]
  },
  {
   "cell_type": "code",
   "execution_count": 52,
   "id": "e80a750e",
   "metadata": {},
   "outputs": [],
   "source": [
    "#Bigram function that makes a feature set with both the words in the featurewords set and with the bigrams from above.\n",
    "def bigram_document_features(document, word_features, bigram_features):\n",
    "    document_words = set(document)\n",
    "    document_bigrams = nltk.bigrams(document)\n",
    "    features = {}\n",
    "    for word in word_features:\n",
    "        features['V_{}'.format(word)] = (word in document_words)\n",
    "    for bigram in bigram_features:\n",
    "        features['B_{}_{}'.format(bigram[0], bigram[1])] = (bigram in document_bigrams)    \n",
    "    return features"
   ]
  },
  {
   "cell_type": "code",
   "execution_count": 53,
   "id": "dbc6f7a1",
   "metadata": {},
   "outputs": [
    {
     "name": "stdout",
     "output_type": "stream",
     "text": [
      "0.382\n",
      "Most Informative Features\n",
      "                   V_bad = True                0 : 4      =     39.7 : 1.0\n",
      "                     V_? = True                2 : 4      =     28.1 : 1.0\n",
      "                 V_worst = True                0 : 3      =     20.0 : 1.0\n",
      "             V_wonderful = True                4 : 1      =     16.5 : 1.0\n",
      "             V_beautiful = True                4 : 1      =     14.2 : 1.0\n",
      "            V_thoughtful = True                4 : 1      =     14.2 : 1.0\n",
      "                  V_best = True                4 : 0      =     13.9 : 1.0\n",
      "                  V_dull = True                0 : 3      =     13.7 : 1.0\n",
      "                V_stupid = True                0 : 2      =     12.7 : 1.0\n",
      "                  V_less = True                1 : 4      =     12.3 : 1.0\n",
      "                 V_heart = True                4 : 0      =     12.1 : 1.0\n",
      "                 V_awful = True                0 : 3      =     12.0 : 1.0\n",
      "             V_contrived = True                0 : 3      =     12.0 : 1.0\n",
      "                 V_money = True                0 : 3      =     12.0 : 1.0\n",
      "         V_coming-of-age = True                4 : 1      =     12.0 : 1.0\n",
      "                V_deeply = True                4 : 1      =     12.0 : 1.0\n",
      "            V_engrossing = True                4 : 1      =     12.0 : 1.0\n",
      "                V_honest = True                4 : 1      =     12.0 : 1.0\n",
      "              V_terrific = True                4 : 1      =     12.0 : 1.0\n",
      "                  V_warm = True                4 : 1      =     10.8 : 1.0\n",
      "                  V_mess = True                0 : 2      =     10.7 : 1.0\n",
      "               V_unfunny = True                0 : 2      =     10.7 : 1.0\n",
      "                V_entire = True                0 : 3      =     10.6 : 1.0\n",
      "              V_horrible = True                0 : 3      =     10.6 : 1.0\n",
      "                  V_loud = True                0 : 3      =     10.6 : 1.0\n",
      "               V_purpose = True                0 : 3      =     10.6 : 1.0\n",
      "               V_tedious = True                0 : 3      =     10.6 : 1.0\n",
      "                 V_grace = True                4 : 3      =     10.2 : 1.0\n",
      "              V_riveting = True                4 : 3      =     10.2 : 1.0\n",
      "              V_stunning = True                4 : 3      =     10.2 : 1.0\n",
      "Each fold size: 1706\n",
      "0 0.369284876905041\n",
      "1 0.3950762016412661\n",
      "2 0.3810082063305979\n",
      "3 0.3686987104337632\n",
      "4 0.3686987104337632\n",
      "mean accuracy 0.3765533411488863\n",
      "\tPrecision\tRecall\t\tF1\n",
      "0 \t      0.228      0.277      0.250\n",
      "1 \t      0.458      0.462      0.460\n",
      "2 \t      0.320      0.260      0.287\n",
      "3 \t      0.396      0.414      0.405\n",
      "4 \t      0.405      0.426      0.415\n",
      "  |      3      1      2      4      0 |\n",
      "--+------------------------------------+\n",
      "3 | <11.3%>  4.1%   6.3%   5.4%   1.4% |\n",
      "1 |   4.4% <12.6%>  6.5%   1.1%   2.9% |\n",
      "2 |   4.6%   4.4%  <5.7%>  1.2%   1.9% |\n",
      "4 |   5.8%   1.1%   1.3%  <6.0%>  0.6% |\n",
      "0 |   1.2%   5.1%   2.1%   0.4%  <2.6%>|\n",
      "--+------------------------------------+\n",
      "(row = reference; col = test)\n",
      "\n"
     ]
    }
   ],
   "source": [
    "# Bigram Accuracy. This was done using the tools from before, however this time the featureset includes the bigrams\n",
    "bigram_featuresets = [(bigram_document_features(d, word_features, bigram_features), c) for (d, c) in tuples]\n",
    "train_set, test_set = bigram_featuresets[1000:], bigram_featuresets[:1000]\n",
    "classifier = nltk.NaiveBayesClassifier.train(train_set)\n",
    "nltk.classify.accuracy(classifier, test_set)\n",
    "classifier = nltk.NaiveBayesClassifier.train(train_set)\n",
    "print(nltk.classify.accuracy(classifier, test_set))\n",
    "classifier.show_most_informative_features(30)\n",
    "cross_validation_accuracy(5, featuresets)\n",
    "goldlist = []\n",
    "predictedlist = []\n",
    "for (features, label) in test_set:\n",
    "    \tgoldlist.append(label)\n",
    "    \tpredictedlist.append(classifier.classify(features))\n",
    "        \n",
    "cm = nltk.ConfusionMatrix(goldlist, predictedlist)\n",
    "eval_measures(goldlist, predictedlist)\n",
    "print(cm.pretty_format(sort_by_count=True, show_percents=True, truncate=9))"
   ]
  },
  {
   "cell_type": "code",
   "execution_count": 54,
   "id": "08c2bd9a",
   "metadata": {},
   "outputs": [],
   "source": [
    "#Import the necessary SKLearn packages for SVM\n",
    "from sklearn.ensemble import RandomForestClassifier\n",
    "from sklearn.datasets import make_classification\n",
    "from sklearn import svm\n",
    "from sklearn.model_selection import train_test_split"
   ]
  },
  {
   "cell_type": "code",
   "execution_count": 55,
   "id": "2a594b27",
   "metadata": {},
   "outputs": [],
   "source": [
    "from sklearn.feature_extraction.text import TfidfVectorizer\n",
    "# Create feature vectors\n",
    "vectorizer = TfidfVectorizer(min_df = 5,\n",
    "                             max_df = 0.8,\n",
    "                             sublinear_tf = True,\n",
    "                             use_idf = True)"
   ]
  },
  {
   "cell_type": "code",
   "execution_count": 56,
   "id": "c1d3510d",
   "metadata": {},
   "outputs": [],
   "source": [
    "#Randomize and pull training and testing phrases with their accompanying sentiments\n",
    "randomizedoutput=output\n",
    "training=randomizedoutput[:7000]\n",
    "testing=randomizedoutput[7000:]\n",
    "train_vectors = vectorizer.fit_transform(training[\"Phrase\"])\n",
    "test_vectors = vectorizer.transform(testing[\"Phrase\"])"
   ]
  },
  {
   "cell_type": "code",
   "execution_count": 57,
   "id": "42413057",
   "metadata": {},
   "outputs": [
    {
     "name": "stdout",
     "output_type": "stream",
     "text": [
      "0:  {'precision': 0.4065934065934066, 'recall': 0.19072164948453607, 'f1-score': 0.2596491228070175, 'support': 194}\n",
      "1:  {'precision': 0.40794223826714804, 'recall': 0.578005115089514, 'f1-score': 0.47830687830687835, 'support': 391}\n",
      "2:  {'precision': 0.28879310344827586, 'recall': 0.22866894197952217, 'f1-score': 0.2552380952380952, 'support': 293}\n",
      "3:  {'precision': 0.43100189035916825, 'recall': 0.5428571428571428, 'f1-score': 0.4805057955742887, 'support': 420}\n",
      "4:  {'precision': 0.5161290322580645, 'recall': 0.27586206896551724, 'f1-score': 0.3595505617977528, 'support': 232}\n"
     ]
    }
   ],
   "source": [
    "#An svm was fun (linear) on the training data. The precision for each sentiment guess is also included\n",
    "from sklearn import svm\n",
    "from sklearn.metrics import classification_report\n",
    "# Perform classification with SVM, kernel=linear\n",
    "classifier_linear = svm.SVC(kernel='linear')\n",
    "classifier_linear.fit(train_vectors, training['Sentiment'])\n",
    "prediction_linear = classifier_linear.predict(test_vectors)\n",
    "# results\n",
    "report = classification_report(testing['Sentiment'], prediction_linear, output_dict=True)\n",
    "print('0: ', report['0'])\n",
    "print('1: ', report['1'])\n",
    "print('2: ', report['2'])\n",
    "print('3: ', report['3'])\n",
    "print('4: ', report['4'])"
   ]
  },
  {
   "cell_type": "code",
   "execution_count": 58,
   "id": "05d761fb",
   "metadata": {},
   "outputs": [
    {
     "data": {
      "text/plain": [
       "130213    3\n",
       "130217    3\n",
       "130229    0\n",
       "130240    2\n",
       "130245    3\n",
       "         ..\n",
       "155984    2\n",
       "155997    2\n",
       "156021    1\n",
       "156031    1\n",
       "156039    2\n",
       "Name: Sentiment, Length: 1530, dtype: int64"
      ]
     },
     "execution_count": 58,
     "metadata": {},
     "output_type": "execute_result"
    }
   ],
   "source": [
    "len(prediction_linear)\n",
    "testing[\"Sentiment\"]"
   ]
  },
  {
   "cell_type": "code",
   "execution_count": 59,
   "id": "f0a6bb4c",
   "metadata": {},
   "outputs": [
    {
     "name": "stdout",
     "output_type": "stream",
     "text": [
      "\tPrecision\tRecall\t\tF1\n",
      "0 \t      0.191      0.407      0.260\n",
      "1 \t      0.578      0.408      0.478\n",
      "2 \t      0.229      0.289      0.255\n",
      "3 \t      0.543      0.431      0.481\n",
      "4 \t      0.276      0.516      0.360\n",
      "  |      3      1      2      4      0 |\n",
      "--+------------------------------------+\n",
      "3 | <14.9%>  5.5%   3.9%   2.7%   0.5% |\n",
      "1 |   4.2% <14.8%>  4.1%   0.4%   2.1% |\n",
      "2 |   5.5%   7.8%  <4.4%>  0.6%   0.8% |\n",
      "4 |   7.7%   1.6%   1.5%  <4.2%>  0.1% |\n",
      "0 |   2.2%   6.5%   1.3%   0.3%  <2.4%>|\n",
      "--+------------------------------------+\n",
      "(row = reference; col = test)\n",
      "\n"
     ]
    }
   ],
   "source": [
    "#Plugging in the above functions to create a confusion matrix and cross validation for the SVM predicted sentiments\n",
    "cm = nltk.ConfusionMatrix(testing[\"Sentiment\"], prediction_linear)\n",
    "eval_measures(testing[\"Sentiment\"], prediction_linear)\n",
    "print(cm.pretty_format(sort_by_count=True, show_percents=True, truncate=5))"
   ]
  },
  {
   "cell_type": "code",
   "execution_count": 60,
   "id": "599a3db3",
   "metadata": {},
   "outputs": [
    {
     "ename": "ValueError",
     "evalue": "The number of FixedLocator locations (5), usually from a call to set_ticks, does not match the number of ticklabels (2).",
     "output_type": "error",
     "traceback": [
      "\u001b[0;31m---------------------------------------------------------------------------\u001b[0m",
      "\u001b[0;31mValueError\u001b[0m                                Traceback (most recent call last)",
      "\u001b[0;32m/var/folders/5r/sp0kcnm15zb_sy3215s143_r0000gn/T/ipykernel_15249/3183884954.py\u001b[0m in \u001b[0;36m<module>\u001b[0;34m\u001b[0m\n\u001b[1;32m      5\u001b[0m \u001b[0mconfusion_matrix\u001b[0m \u001b[0;34m=\u001b[0m \u001b[0mmetrics\u001b[0m\u001b[0;34m.\u001b[0m\u001b[0mconfusion_matrix\u001b[0m\u001b[0;34m(\u001b[0m\u001b[0mtesting\u001b[0m\u001b[0;34m[\u001b[0m\u001b[0;34m\"Sentiment\"\u001b[0m\u001b[0;34m]\u001b[0m\u001b[0;34m,\u001b[0m \u001b[0mprediction_linear\u001b[0m\u001b[0;34m)\u001b[0m\u001b[0;34m\u001b[0m\u001b[0;34m\u001b[0m\u001b[0m\n\u001b[1;32m      6\u001b[0m \u001b[0mcm_display\u001b[0m \u001b[0;34m=\u001b[0m \u001b[0mmetrics\u001b[0m\u001b[0;34m.\u001b[0m\u001b[0mConfusionMatrixDisplay\u001b[0m\u001b[0;34m(\u001b[0m\u001b[0mconfusion_matrix\u001b[0m \u001b[0;34m=\u001b[0m \u001b[0mconfusion_matrix\u001b[0m\u001b[0;34m,\u001b[0m \u001b[0mdisplay_labels\u001b[0m \u001b[0;34m=\u001b[0m \u001b[0;34m[\u001b[0m\u001b[0;32mFalse\u001b[0m\u001b[0;34m,\u001b[0m \u001b[0;32mTrue\u001b[0m\u001b[0;34m]\u001b[0m\u001b[0;34m)\u001b[0m\u001b[0;34m\u001b[0m\u001b[0;34m\u001b[0m\u001b[0m\n\u001b[0;32m----> 7\u001b[0;31m \u001b[0mcm_display\u001b[0m\u001b[0;34m.\u001b[0m\u001b[0mplot\u001b[0m\u001b[0;34m(\u001b[0m\u001b[0;34m)\u001b[0m\u001b[0;34m\u001b[0m\u001b[0;34m\u001b[0m\u001b[0m\n\u001b[0m\u001b[1;32m      8\u001b[0m \u001b[0mplt\u001b[0m\u001b[0;34m.\u001b[0m\u001b[0mshow\u001b[0m\u001b[0;34m(\u001b[0m\u001b[0;34m)\u001b[0m\u001b[0;34m\u001b[0m\u001b[0;34m\u001b[0m\u001b[0m\n",
      "\u001b[0;32m~/opt/anaconda3/lib/python3.9/site-packages/sklearn/metrics/_plot/confusion_matrix.py\u001b[0m in \u001b[0;36mplot\u001b[0;34m(self, include_values, cmap, xticks_rotation, values_format, ax, colorbar)\u001b[0m\n\u001b[1;32m    161\u001b[0m         \u001b[0;32mif\u001b[0m \u001b[0mcolorbar\u001b[0m\u001b[0;34m:\u001b[0m\u001b[0;34m\u001b[0m\u001b[0;34m\u001b[0m\u001b[0m\n\u001b[1;32m    162\u001b[0m             \u001b[0mfig\u001b[0m\u001b[0;34m.\u001b[0m\u001b[0mcolorbar\u001b[0m\u001b[0;34m(\u001b[0m\u001b[0mself\u001b[0m\u001b[0;34m.\u001b[0m\u001b[0mim_\u001b[0m\u001b[0;34m,\u001b[0m \u001b[0max\u001b[0m\u001b[0;34m=\u001b[0m\u001b[0max\u001b[0m\u001b[0;34m)\u001b[0m\u001b[0;34m\u001b[0m\u001b[0;34m\u001b[0m\u001b[0m\n\u001b[0;32m--> 163\u001b[0;31m         ax.set(\n\u001b[0m\u001b[1;32m    164\u001b[0m             \u001b[0mxticks\u001b[0m\u001b[0;34m=\u001b[0m\u001b[0mnp\u001b[0m\u001b[0;34m.\u001b[0m\u001b[0marange\u001b[0m\u001b[0;34m(\u001b[0m\u001b[0mn_classes\u001b[0m\u001b[0;34m)\u001b[0m\u001b[0;34m,\u001b[0m\u001b[0;34m\u001b[0m\u001b[0;34m\u001b[0m\u001b[0m\n\u001b[1;32m    165\u001b[0m             \u001b[0myticks\u001b[0m\u001b[0;34m=\u001b[0m\u001b[0mnp\u001b[0m\u001b[0;34m.\u001b[0m\u001b[0marange\u001b[0m\u001b[0;34m(\u001b[0m\u001b[0mn_classes\u001b[0m\u001b[0;34m)\u001b[0m\u001b[0;34m,\u001b[0m\u001b[0;34m\u001b[0m\u001b[0;34m\u001b[0m\u001b[0m\n",
      "\u001b[0;32m~/opt/anaconda3/lib/python3.9/site-packages/matplotlib/artist.py\u001b[0m in \u001b[0;36m<lambda>\u001b[0;34m(self, **kwargs)\u001b[0m\n\u001b[1;32m    114\u001b[0m             \u001b[0;32mreturn\u001b[0m\u001b[0;34m\u001b[0m\u001b[0;34m\u001b[0m\u001b[0m\n\u001b[1;32m    115\u001b[0m \u001b[0;34m\u001b[0m\u001b[0m\n\u001b[0;32m--> 116\u001b[0;31m         \u001b[0mcls\u001b[0m\u001b[0;34m.\u001b[0m\u001b[0mset\u001b[0m \u001b[0;34m=\u001b[0m \u001b[0;32mlambda\u001b[0m \u001b[0mself\u001b[0m\u001b[0;34m,\u001b[0m \u001b[0;34m**\u001b[0m\u001b[0mkwargs\u001b[0m\u001b[0;34m:\u001b[0m \u001b[0mArtist\u001b[0m\u001b[0;34m.\u001b[0m\u001b[0mset\u001b[0m\u001b[0;34m(\u001b[0m\u001b[0mself\u001b[0m\u001b[0;34m,\u001b[0m \u001b[0;34m**\u001b[0m\u001b[0mkwargs\u001b[0m\u001b[0;34m)\u001b[0m\u001b[0;34m\u001b[0m\u001b[0;34m\u001b[0m\u001b[0m\n\u001b[0m\u001b[1;32m    117\u001b[0m         \u001b[0mcls\u001b[0m\u001b[0;34m.\u001b[0m\u001b[0mset\u001b[0m\u001b[0;34m.\u001b[0m\u001b[0m__name__\u001b[0m \u001b[0;34m=\u001b[0m \u001b[0;34m\"set\"\u001b[0m\u001b[0;34m\u001b[0m\u001b[0;34m\u001b[0m\u001b[0m\n\u001b[1;32m    118\u001b[0m         \u001b[0mcls\u001b[0m\u001b[0;34m.\u001b[0m\u001b[0mset\u001b[0m\u001b[0;34m.\u001b[0m\u001b[0m__qualname__\u001b[0m \u001b[0;34m=\u001b[0m \u001b[0;34mf\"{cls.__qualname__}.set\"\u001b[0m\u001b[0;34m\u001b[0m\u001b[0;34m\u001b[0m\u001b[0m\n",
      "\u001b[0;32m~/opt/anaconda3/lib/python3.9/site-packages/matplotlib/artist.py\u001b[0m in \u001b[0;36mset\u001b[0;34m(self, **kwargs)\u001b[0m\n\u001b[1;32m   1162\u001b[0m         \u001b[0;31m# module.\u001b[0m\u001b[0;34m\u001b[0m\u001b[0;34m\u001b[0m\u001b[0m\n\u001b[1;32m   1163\u001b[0m         \u001b[0mkwargs\u001b[0m \u001b[0;34m=\u001b[0m \u001b[0mcbook\u001b[0m\u001b[0;34m.\u001b[0m\u001b[0mnormalize_kwargs\u001b[0m\u001b[0;34m(\u001b[0m\u001b[0mkwargs\u001b[0m\u001b[0;34m,\u001b[0m \u001b[0mself\u001b[0m\u001b[0;34m)\u001b[0m\u001b[0;34m\u001b[0m\u001b[0;34m\u001b[0m\u001b[0m\n\u001b[0;32m-> 1164\u001b[0;31m         \u001b[0;32mreturn\u001b[0m \u001b[0mself\u001b[0m\u001b[0;34m.\u001b[0m\u001b[0mupdate\u001b[0m\u001b[0;34m(\u001b[0m\u001b[0mkwargs\u001b[0m\u001b[0;34m)\u001b[0m\u001b[0;34m\u001b[0m\u001b[0;34m\u001b[0m\u001b[0m\n\u001b[0m\u001b[1;32m   1165\u001b[0m \u001b[0;34m\u001b[0m\u001b[0m\n\u001b[1;32m   1166\u001b[0m     \u001b[0;34m@\u001b[0m\u001b[0mcontextlib\u001b[0m\u001b[0;34m.\u001b[0m\u001b[0mcontextmanager\u001b[0m\u001b[0;34m\u001b[0m\u001b[0;34m\u001b[0m\u001b[0m\n",
      "\u001b[0;32m~/opt/anaconda3/lib/python3.9/site-packages/matplotlib/artist.py\u001b[0m in \u001b[0;36mupdate\u001b[0;34m(self, props)\u001b[0m\n\u001b[1;32m   1064\u001b[0m                         raise AttributeError(f\"{type(self).__name__!r} object \"\n\u001b[1;32m   1065\u001b[0m                                              f\"has no property {k!r}\")\n\u001b[0;32m-> 1066\u001b[0;31m                     \u001b[0mret\u001b[0m\u001b[0;34m.\u001b[0m\u001b[0mappend\u001b[0m\u001b[0;34m(\u001b[0m\u001b[0mfunc\u001b[0m\u001b[0;34m(\u001b[0m\u001b[0mv\u001b[0m\u001b[0;34m)\u001b[0m\u001b[0;34m)\u001b[0m\u001b[0;34m\u001b[0m\u001b[0;34m\u001b[0m\u001b[0m\n\u001b[0m\u001b[1;32m   1067\u001b[0m         \u001b[0;32mif\u001b[0m \u001b[0mret\u001b[0m\u001b[0;34m:\u001b[0m\u001b[0;34m\u001b[0m\u001b[0;34m\u001b[0m\u001b[0m\n\u001b[1;32m   1068\u001b[0m             \u001b[0mself\u001b[0m\u001b[0;34m.\u001b[0m\u001b[0mpchanged\u001b[0m\u001b[0;34m(\u001b[0m\u001b[0;34m)\u001b[0m\u001b[0;34m\u001b[0m\u001b[0;34m\u001b[0m\u001b[0m\n",
      "\u001b[0;32m~/opt/anaconda3/lib/python3.9/site-packages/matplotlib/axes/_base.py\u001b[0m in \u001b[0;36mwrapper\u001b[0;34m(self, *args, **kwargs)\u001b[0m\n\u001b[1;32m     73\u001b[0m \u001b[0;34m\u001b[0m\u001b[0m\n\u001b[1;32m     74\u001b[0m         \u001b[0;32mdef\u001b[0m \u001b[0mwrapper\u001b[0m\u001b[0;34m(\u001b[0m\u001b[0mself\u001b[0m\u001b[0;34m,\u001b[0m \u001b[0;34m*\u001b[0m\u001b[0margs\u001b[0m\u001b[0;34m,\u001b[0m \u001b[0;34m**\u001b[0m\u001b[0mkwargs\u001b[0m\u001b[0;34m)\u001b[0m\u001b[0;34m:\u001b[0m\u001b[0;34m\u001b[0m\u001b[0;34m\u001b[0m\u001b[0m\n\u001b[0;32m---> 75\u001b[0;31m             \u001b[0;32mreturn\u001b[0m \u001b[0mget_method\u001b[0m\u001b[0;34m(\u001b[0m\u001b[0mself\u001b[0m\u001b[0;34m)\u001b[0m\u001b[0;34m(\u001b[0m\u001b[0;34m*\u001b[0m\u001b[0margs\u001b[0m\u001b[0;34m,\u001b[0m \u001b[0;34m**\u001b[0m\u001b[0mkwargs\u001b[0m\u001b[0;34m)\u001b[0m\u001b[0;34m\u001b[0m\u001b[0;34m\u001b[0m\u001b[0m\n\u001b[0m\u001b[1;32m     76\u001b[0m \u001b[0;34m\u001b[0m\u001b[0m\n\u001b[1;32m     77\u001b[0m         \u001b[0mwrapper\u001b[0m\u001b[0;34m.\u001b[0m\u001b[0m__module__\u001b[0m \u001b[0;34m=\u001b[0m \u001b[0mowner\u001b[0m\u001b[0;34m.\u001b[0m\u001b[0m__module__\u001b[0m\u001b[0;34m\u001b[0m\u001b[0;34m\u001b[0m\u001b[0m\n",
      "\u001b[0;32m~/opt/anaconda3/lib/python3.9/site-packages/matplotlib/axis.py\u001b[0m in \u001b[0;36m_set_ticklabels\u001b[0;34m(self, labels, fontdict, minor, **kwargs)\u001b[0m\n\u001b[1;32m   1796\u001b[0m         \u001b[0;32mif\u001b[0m \u001b[0mfontdict\u001b[0m \u001b[0;32mis\u001b[0m \u001b[0;32mnot\u001b[0m \u001b[0;32mNone\u001b[0m\u001b[0;34m:\u001b[0m\u001b[0;34m\u001b[0m\u001b[0;34m\u001b[0m\u001b[0m\n\u001b[1;32m   1797\u001b[0m             \u001b[0mkwargs\u001b[0m\u001b[0;34m.\u001b[0m\u001b[0mupdate\u001b[0m\u001b[0;34m(\u001b[0m\u001b[0mfontdict\u001b[0m\u001b[0;34m)\u001b[0m\u001b[0;34m\u001b[0m\u001b[0;34m\u001b[0m\u001b[0m\n\u001b[0;32m-> 1798\u001b[0;31m         \u001b[0;32mreturn\u001b[0m \u001b[0mself\u001b[0m\u001b[0;34m.\u001b[0m\u001b[0mset_ticklabels\u001b[0m\u001b[0;34m(\u001b[0m\u001b[0mlabels\u001b[0m\u001b[0;34m,\u001b[0m \u001b[0mminor\u001b[0m\u001b[0;34m=\u001b[0m\u001b[0mminor\u001b[0m\u001b[0;34m,\u001b[0m \u001b[0;34m**\u001b[0m\u001b[0mkwargs\u001b[0m\u001b[0;34m)\u001b[0m\u001b[0;34m\u001b[0m\u001b[0;34m\u001b[0m\u001b[0m\n\u001b[0m\u001b[1;32m   1799\u001b[0m \u001b[0;34m\u001b[0m\u001b[0m\n\u001b[1;32m   1800\u001b[0m     \u001b[0;32mdef\u001b[0m \u001b[0m_set_tick_locations\u001b[0m\u001b[0;34m(\u001b[0m\u001b[0mself\u001b[0m\u001b[0;34m,\u001b[0m \u001b[0mticks\u001b[0m\u001b[0;34m,\u001b[0m \u001b[0;34m*\u001b[0m\u001b[0;34m,\u001b[0m \u001b[0mminor\u001b[0m\u001b[0;34m=\u001b[0m\u001b[0;32mFalse\u001b[0m\u001b[0;34m)\u001b[0m\u001b[0;34m:\u001b[0m\u001b[0;34m\u001b[0m\u001b[0;34m\u001b[0m\u001b[0m\n",
      "\u001b[0;32m~/opt/anaconda3/lib/python3.9/site-packages/matplotlib/axis.py\u001b[0m in \u001b[0;36mset_ticklabels\u001b[0;34m(self, ticklabels, minor, **kwargs)\u001b[0m\n\u001b[1;32m   1718\u001b[0m             \u001b[0;31m# remove all tick labels, so only error for > 0 ticklabels\u001b[0m\u001b[0;34m\u001b[0m\u001b[0;34m\u001b[0m\u001b[0m\n\u001b[1;32m   1719\u001b[0m             \u001b[0;32mif\u001b[0m \u001b[0mlen\u001b[0m\u001b[0;34m(\u001b[0m\u001b[0mlocator\u001b[0m\u001b[0;34m.\u001b[0m\u001b[0mlocs\u001b[0m\u001b[0;34m)\u001b[0m \u001b[0;34m!=\u001b[0m \u001b[0mlen\u001b[0m\u001b[0;34m(\u001b[0m\u001b[0mticklabels\u001b[0m\u001b[0;34m)\u001b[0m \u001b[0;32mand\u001b[0m \u001b[0mlen\u001b[0m\u001b[0;34m(\u001b[0m\u001b[0mticklabels\u001b[0m\u001b[0;34m)\u001b[0m \u001b[0;34m!=\u001b[0m \u001b[0;36m0\u001b[0m\u001b[0;34m:\u001b[0m\u001b[0;34m\u001b[0m\u001b[0;34m\u001b[0m\u001b[0m\n\u001b[0;32m-> 1720\u001b[0;31m                 raise ValueError(\n\u001b[0m\u001b[1;32m   1721\u001b[0m                     \u001b[0;34m\"The number of FixedLocator locations\"\u001b[0m\u001b[0;34m\u001b[0m\u001b[0;34m\u001b[0m\u001b[0m\n\u001b[1;32m   1722\u001b[0m                     \u001b[0;34mf\" ({len(locator.locs)}), usually from a call to\"\u001b[0m\u001b[0;34m\u001b[0m\u001b[0;34m\u001b[0m\u001b[0m\n",
      "\u001b[0;31mValueError\u001b[0m: The number of FixedLocator locations (5), usually from a call to set_ticks, does not match the number of ticklabels (2)."
     ]
    },
    {
     "data": {
      "image/png": "[encoded data removed]",
      "text/plain": [
       "<Figure size 640x480 with 2 Axes>"
      ]
     },
     "metadata": {},
     "output_type": "display_data"
    }
   ],
   "source": [
    "#Finally, plotting the resuling SVM results using matplotlib\n",
    "import matplotlib.pyplot as plt\n",
    "import numpy\n",
    "from sklearn import metrics\n",
    "confusion_matrix = metrics.confusion_matrix(testing[\"Sentiment\"], prediction_linear)\n",
    "cm_display = metrics.ConfusionMatrixDisplay(confusion_matrix = confusion_matrix, display_labels = [False, True])\n",
    "cm_display.plot()\n",
    "plt.show()"
   ]
  },
  {
   "cell_type": "code",
   "execution_count": 61,
   "id": "6eedc86a",
   "metadata": {},
   "outputs": [
    {
     "data": {
      "text/plain": [
       "0.4065359477124183"
      ]
     },
     "execution_count": 61,
     "metadata": {},
     "output_type": "execute_result"
    }
   ],
   "source": [
    "#SVM model accuracy\n",
    "Accuracy = metrics.accuracy_score(testing[\"Sentiment\"], prediction_linear)\n",
    "Accuracy"
   ]
  },
  {
   "cell_type": "code",
   "execution_count": null,
   "id": "d307983d",
   "metadata": {},
   "outputs": [],
   "source": []
  },
  {
   "cell_type": "code",
   "execution_count": null,
   "id": "7dc2649f",
   "metadata": {},
   "outputs": [],
   "source": []
  },
  {
   "cell_type": "code",
   "execution_count": null,
   "id": "02d3ee1b",
   "metadata": {},
   "outputs": [],
   "source": []
  }
 ],
 "metadata": {
  "kernelspec": {
   "display_name": "Python 3 (ipykernel)",
   "language": "python",
   "name": "python3"
  },
  "language_info": {
   "codemirror_mode": {
    "name": "ipython",
    "version": 3
   },
   "file_extension": ".py",
   "mimetype": "text/x-python",
   "name": "python",
   "nbconvert_exporter": "python",
   "pygments_lexer": "ipython3",
   "version": "3.9.13"
  }
 },
 "nbformat": 4,
 "nbformat_minor": 5
}
